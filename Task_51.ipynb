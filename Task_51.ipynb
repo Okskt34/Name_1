{
 "cells": [
  {
   "cell_type": "code",
   "execution_count": 1,
   "id": "59715f8b",
   "metadata": {},
   "outputs": [],
   "source": [
    "import numpy as np"
   ]
  },
  {
   "cell_type": "code",
   "execution_count": 2,
   "id": "6738f332",
   "metadata": {},
   "outputs": [],
   "source": [
    "total_products = 13000\n",
    "factory1_products = 8000\n",
    "factory1_weight = 13\n",
    "factory1_std = 0.5\n",
    "factory1_quality_ratio = 0.85\n",
    "\n",
    "factory2_products = 5000\n",
    "factory2_weight = 12\n",
    "factory2_std = 0.7\n",
    "factory2_quality_ratio = 0.8"
   ]
  },
  {
   "cell_type": "code",
   "execution_count": 3,
   "id": "0268c7ec",
   "metadata": {},
   "outputs": [],
   "source": [
    "p_factory1 = 0.5\n",
    "p_factory2 = 0.5"
   ]
  },
  {
   "cell_type": "code",
   "execution_count": 4,
   "id": "87743c89",
   "metadata": {},
   "outputs": [],
   "source": [
    "num_iterations = 100"
   ]
  },
  {
   "cell_type": "code",
   "execution_count": 5,
   "id": "35a8a288",
   "metadata": {},
   "outputs": [],
   "source": [
    "for _ in range(num_iterations):\n",
    "    \n",
    "    likelihood_factory1 = np.exp(-0.5 * ((factory1_weight - factory1_weight)**2) / (factory1_std ** 2)) / (np.sqrt(2 * np.pi) * factory1_std)\n",
    "    likelihood_factory2 = np.exp(-0.5 * ((factory1_weight - factory2_weight)**2) / (factory2_std ** 2)) / (np.sqrt(2 * np.pi) * factory2_std)\n",
    "\n",
    "    p_factory1_given_product = (p_factory1 * likelihood_factory1) / (p_factory1 * likelihood_factory1 + p_factory2 * likelihood_factory2)\n",
    "    p_factory2_given_product = 1 - p_factory1_given_product\n",
    "\n",
    "    p_factory1 = np.sum(p_factory1_given_product) / total_products\n",
    "    p_factory2 = np.sum(p_factory2_given_product) / total_products\n"
   ]
  },
  {
   "cell_type": "code",
   "execution_count": 6,
   "id": "8c08fd5e",
   "metadata": {},
   "outputs": [
    {
     "name": "stdout",
     "output_type": "stream",
     "text": [
      "Estimated probabilities:\n",
      "Factory 1: 7.692307692307693e-05\n",
      "Factory 2: 0.0\n"
     ]
    }
   ],
   "source": [
    "print(\"Estimated probabilities:\")\n",
    "print(\"Factory 1:\", p_factory1)\n",
    "print(\"Factory 2:\", p_factory2)"
   ]
  },
  {
   "cell_type": "code",
   "execution_count": null,
   "id": "34ceb462",
   "metadata": {},
   "outputs": [],
   "source": []
  }
 ],
 "metadata": {
  "kernelspec": {
   "display_name": "Python 3 (ipykernel)",
   "language": "python",
   "name": "python3"
  },
  "language_info": {
   "codemirror_mode": {
    "name": "ipython",
    "version": 3
   },
   "file_extension": ".py",
   "mimetype": "text/x-python",
   "name": "python",
   "nbconvert_exporter": "python",
   "pygments_lexer": "ipython3",
   "version": "3.10.9"
  }
 },
 "nbformat": 4,
 "nbformat_minor": 5
}
