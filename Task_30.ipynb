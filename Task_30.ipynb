{
 "cells": [
  {
   "cell_type": "code",
   "execution_count": 1,
   "id": "c13270de",
   "metadata": {},
   "outputs": [],
   "source": [
    "import numpy as np"
   ]
  },
  {
   "cell_type": "code",
   "execution_count": 2,
   "id": "2010a06f",
   "metadata": {},
   "outputs": [],
   "source": [
    "class HashTable:\n",
    "    def __init__(self, size):\n",
    "        self.size = size\n",
    "        self.table = np.empty(size, dtype=object)\n",
    "        \n",
    "    def hash_function(self, key):\n",
    "        return hash(key) % self.size\n",
    "    \n",
    "    def insert(self, key, value):\n",
    "        index = self.hash_function(key)\n",
    "        \n",
    "        if self.table[index] is None:\n",
    "            self.table[index] = [(key, value)]\n",
    "        else:\n",
    "            for i, (existing_key, _) in enumerate(self.table[index]):\n",
    "                if existing_key == key:\n",
    "                    self.table[index][i] = (key, value)  \n",
    "                    return\n",
    "            self.table[index].append((key, value))  \n",
    "        \n",
    "    def remove(self, key):\n",
    "        index = self.hash_function(key)\n",
    "        \n",
    "        if self.table[index] is None:\n",
    "            return\n",
    "        \n",
    "        for i, (existing_key, _) in enumerate(self.table[index]):\n",
    "            if existing_key == key:\n",
    "                del self.table[index][i]\n",
    "                return\n",
    "    \n",
    "    def search(self, key):\n",
    "        index = self.hash_function(key)\n",
    "        \n",
    "        if self.table[index] is None:\n",
    "            return None\n",
    "        \n",
    "        for existing_key, value in self.table[index]:\n",
    "            if existing_key == key:\n",
    "                return value\n",
    "        \n",
    "        return None\n",
    "    \n",
    "    def print_table(self):\n",
    "        for i in range(self.size):\n",
    "            print(f\"Index {i}: {self.table[i]}\")"
   ]
  },
  {
   "cell_type": "code",
   "execution_count": 3,
   "id": "cd930c79",
   "metadata": {},
   "outputs": [
    {
     "name": "stdout",
     "output_type": "stream",
     "text": [
      "Index 0: [('banana', 20)]\n",
      "Index 1: None\n",
      "Index 2: None\n",
      "Index 3: [('apple', 10)]\n",
      "Index 4: [('grape', 40)]\n",
      "Index 5: [('orange', 30)]\n",
      "Index 6: None\n",
      "Index 7: None\n",
      "Index 8: None\n",
      "Index 9: None\n"
     ]
    }
   ],
   "source": [
    "hash_table = HashTable(10)\n",
    "\n",
    "hash_table.insert(\"apple\", 10)\n",
    "hash_table.insert(\"banana\", 20)\n",
    "hash_table.insert(\"orange\", 30)\n",
    "hash_table.insert(\"grape\", 40)\n",
    "\n",
    "hash_table.print_table()"
   ]
  },
  {
   "cell_type": "code",
   "execution_count": 4,
   "id": "ce3cb4ff",
   "metadata": {},
   "outputs": [
    {
     "name": "stdout",
     "output_type": "stream",
     "text": [
      "10\n",
      "Index 0: []\n",
      "Index 1: None\n",
      "Index 2: None\n",
      "Index 3: [('apple', 10)]\n",
      "Index 4: [('grape', 40)]\n",
      "Index 5: [('orange', 30)]\n",
      "Index 6: None\n",
      "Index 7: None\n",
      "Index 8: None\n",
      "Index 9: None\n"
     ]
    }
   ],
   "source": [
    "value = hash_table.search(\"apple\")\n",
    "print(value)  \n",
    "\n",
    "hash_table.remove(\"banana\")\n",
    "hash_table.print_table()"
   ]
  },
  {
   "cell_type": "code",
   "execution_count": 5,
   "id": "3baa68de",
   "metadata": {},
   "outputs": [],
   "source": [
    "import numpy as np\n",
    "import hashlib"
   ]
  },
  {
   "cell_type": "code",
   "execution_count": 6,
   "id": "f3cc4438",
   "metadata": {},
   "outputs": [],
   "source": [
    "class UserAuthentication:\n",
    "    def __init__(self):\n",
    "        self.users = {}\n",
    "    \n",
    "    def register_user(self):\n",
    "        login = input(\"Enter login: \")\n",
    "        password = input(\"Enter password: \")\n",
    "        \n",
    "        if login in self.users:\n",
    "            print(\"User already exists.\")\n",
    "            return\n",
    "        \n",
    "        encrypted_password = self.encrypt_password(password)\n",
    "        self.users[login] = encrypted_password\n",
    "        print(\"User registered successfully.\")\n",
    "    \n",
    "    def authenticate_user(self):\n",
    "        login = input(\"Enter login: \")\n",
    "        password = input(\"Enter password: \")\n",
    "        \n",
    "        if login not in self.users:\n",
    "            print(\"User does not exist.\")\n",
    "            return\n",
    "        \n",
    "        encrypted_password = self.encrypt_password(password)\n",
    "        \n",
    "        if self.users[login] == encrypted_password:\n",
    "            print(\"Authentication successful.\")\n",
    "        else:\n",
    "            print(\"Authentication failed.\")\n",
    "    \n",
    "    def encrypt_password(self, password):\n",
    "        sha256_hash = hashlib.sha256()\n",
    "        sha256_hash.update(password.encode())\n",
    "        encrypted_password = sha256_hash.hexdigest()\n",
    "        return encrypted_password"
   ]
  },
  {
   "cell_type": "code",
   "execution_count": null,
   "id": "7849288f",
   "metadata": {},
   "outputs": [
    {
     "name": "stdout",
     "output_type": "stream",
     "text": [
      "\n",
      "1. Register User\n",
      "2. Authenticate User\n",
      "3. Exit\n"
     ]
    }
   ],
   "source": [
    "auth = UserAuthentication()\n",
    "\n",
    "while True:\n",
    "    print(\"\\n1. Register User\")\n",
    "    print(\"2. Authenticate User\")\n",
    "    print(\"3. Exit\")\n",
    "    \n",
    "    choice = input(\"Enter your choice: \")\n",
    "    \n",
    "    if choice == \"1\":\n",
    "        auth.register_user()\n",
    "    elif choice == \"2\":\n",
    "        auth.authenticate_user()\n",
    "    elif choice == \"3\":\n",
    "        break\n",
    "    else:\n",
    "        print(\"Invalid choice. Please try again.\")"
   ]
  },
  {
   "cell_type": "code",
   "execution_count": null,
   "id": "9be792f5",
   "metadata": {},
   "outputs": [],
   "source": []
  }
 ],
 "metadata": {
  "kernelspec": {
   "display_name": "Python 3 (ipykernel)",
   "language": "python",
   "name": "python3"
  },
  "language_info": {
   "codemirror_mode": {
    "name": "ipython",
    "version": 3
   },
   "file_extension": ".py",
   "mimetype": "text/x-python",
   "name": "python",
   "nbconvert_exporter": "python",
   "pygments_lexer": "ipython3",
   "version": "3.10.9"
  }
 },
 "nbformat": 4,
 "nbformat_minor": 5
}
